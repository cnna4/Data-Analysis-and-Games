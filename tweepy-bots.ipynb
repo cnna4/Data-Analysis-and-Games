{
 "cells": [
  {
   "cell_type": "code",
   "execution_count": 1,
   "metadata": {},
   "outputs": [],
   "source": [
    "import tweepy\n",
    "from time import sleep\n",
    "from credentials import *\n",
    "\n",
    "\n",
    "#Api key = \"1LS4ynjMCWamRkh5zQ6c7YeHr\"\n",
    "#Api secret key = \"cRfPQ6iP7OyLcJvRAD57LurlkHH0L40UsO0RlIt312oEZL3tXD\"\n",
    "#acess token = \"939849548020711426-O6ueBlBRIfVG2j9v3WAq5cWCrDiDFh8\"\n",
    "#acess token secret = \"kV29319i0gk8LGSdBuzjQI3fdBAbHMFq9GrUmhi79bOXP\"\n"
   ]
  },
  {
   "cell_type": "code",
   "execution_count": 2,
   "metadata": {},
   "outputs": [
    {
     "name": "stdout",
     "output_type": "stream",
     "text": [
      "Authentication OK\n"
     ]
    }
   ],
   "source": [
    "# Authenticate to Twitter\n",
    "auth = tweepy.OAuthHandler(\"1LS4ynjMCWamRkh5zQ6c7YeHr\", \n",
    "    \"cRfPQ6iP7OyLcJvRAD57LurlkHH0L40UsO0RlIt312oEZL3tXD\")\n",
    "auth.set_access_token(\"939849548020711426-O6ueBlBRIfVG2j9v3WAq5cWCrDiDFh8\", \n",
    "    \"kV29319i0gk8LGSdBuzjQI3fdBAbHMFq9GrUmhi79bOXP\")\n",
    "\n",
    "api = tweepy.API(auth)\n",
    "\n",
    "try:\n",
    "    api.verify_credentials()\n",
    "    print(\"Authentication OK\")\n",
    "except:\n",
    "    print(\"Error during authentication\")"
   ]
  },
  {
   "cell_type": "code",
   "execution_count": 3,
   "metadata": {},
   "outputs": [],
   "source": [
    "consumer_key = '1LS4ynjMCWamRkh5zQ6c7YeHr'\n",
    "consumer_secret = 'cRfPQ6iP7OyLcJvRAD57LurlkHH0L40UsO0RlIt312oEZL3tXD'\n",
    "access_token = '939849548020711426-O6ueBlBRIfVG2j9v3WAq5cWCrDiDFh8'\n",
    "access_token_secret = 'kV29319i0gk8LGSdBuzjQI3fdBAbHMFq9GrUmhi79bOXP'\n",
    "\n",
    "auth = tweepy.OAuthHandler(consumer_key, consumer_secret)\n",
    "auth.set_access_token(access_token, access_token_secret)\n",
    "\n",
    "api = tweepy.API(auth)\n"
   ]
  },
  {
   "cell_type": "code",
   "execution_count": 4,
   "metadata": {},
   "outputs": [
    {
     "data": {
      "text/plain": [
       "{'statuses': [],\n",
       " 'search_metadata': {'completed_in': 0.008,\n",
       "  'max_id': 1393005847576412166,\n",
       "  'max_id_str': '1393005847576412166',\n",
       "  'query': '%40ChidiFotball50',\n",
       "  'refresh_url': '?since_id=1393005847576412166&q=%40ChidiFotball50&include_entities=1',\n",
       "  'count': 15,\n",
       "  'since_id': 0,\n",
       "  'since_id_str': '0'}}"
      ]
     },
     "execution_count": 4,
     "metadata": {},
     "output_type": "execute_result"
    }
   ],
   "source": [
    "from twython import Twython\n",
    "\n",
    "twitter = Twython(consumer_key,consumer_secret,access_token,access_token_secret)\n",
    "twitter.get_home_timeline()\n",
    "twitter.search(q='@ChidiFotball50')\n",
    "\n",
    "\n",
    "\n",
    "    "
   ]
  },
  {
   "cell_type": "code",
   "execution_count": null,
   "metadata": {},
   "outputs": [],
   "source": [
    "from twython import TwythonStreamer  \n",
    "import csv\n",
    "import codecs\n",
    "import json\n",
    "import time\n",
    "\n",
    "\n",
    "consumer_key = '1LS4ynjMCWamRkh5zQ6c7YeHr'\n",
    "consumer_secret = 'cRfPQ6iP7OyLcJvRAD57LurlkHH0L40UsO0RlIt312oEZL3tXD'\n",
    "access_token = '939849548020711426-O6ueBlBRIfVG2j9v3WAq5cWCrDiDFh8'\n",
    "access_token_secret = 'kV29319i0gk8LGSdBuzjQI3fdBAbHMFq9GrUmhi79bOXP'\n",
    "\n",
    "# Filter out unwanted data\n",
    "def process_tweet(tweet):  \n",
    "    d = {}\n",
    "    d['hashtags'] = str([hashtag['text'] for hashtag in tweet['entities']['hashtags']])\n",
    "    d['created_at'] = str(tweet['created_at'])\n",
    "    d['text'] = str(tweet['text'])\n",
    "    d['name'] = str(tweet['user']['name'])\n",
    "    d['user'] = tweet['user']['screen_name']\n",
    "    d['user_id'] = tweet['user']['id']\n",
    "    d['user_loc'] = tweet['user']['location']\n",
    "    d['user_desc'] = tweet['user']['description']\n",
    "    d['user_followers'] = tweet['user']['followers_count']\n",
    "    d['user_friends'] = tweet['user']['friends_count']\n",
    "    d['user_listed'] = tweet['user']['listed_count']\n",
    "    d['user_created'] = tweet['user']['created_at']\n",
    "    d['user_favs'] = tweet['user']['favourites_count']\n",
    "    d['user_verified'] = tweet['user']['verified']\n",
    "    d['user_statuses'] = tweet['user']['statuses_count']\n",
    "\n",
    "    return d\n",
    "\n",
    "\n",
    "# Create a class that inherits TwythonStreamer\n",
    "class MyStreamer(TwythonStreamer):     \n",
    "\n",
    "    # Received data\n",
    "    def on_success(self, data):\n",
    "\n",
    "        # Save full JSON to file\n",
    "        with open('C:/Users/student/Desktop/tweets.json','a') as jsonfile:\n",
    "            json.dump(data, jsonfile)        \n",
    "\n",
    "        # Only collect tweets in English\n",
    "        if data['lang'] == 'en':\n",
    "            tweet_data = process_tweet(data)\n",
    "            self.save_to_csv(tweet_data)\n",
    "\n",
    "    # Problem with the API\n",
    "    def on_error(self, status_code, data):\n",
    "        print(status_code, data)\n",
    "        self.disconnect()\n",
    "\n",
    "    # Save each tweet to csv file\n",
    "    def save_to_csv(self, tweet):\n",
    "        with open('C:/Users/student/Desktop/tweets.csv','a', encoding=\"utf8\") as file:\n",
    "            writer = csv.writer(file)\n",
    "            writer.writerow(list(tweet.values()))\n",
    "\n",
    "while True:\n",
    "    try:\n",
    "        # Instantiate from our streaming class\n",
    "        stream = MyStreamer(consumer_key,consumer_secret,access_token,access_token_secret)\n",
    "\n",
    "        # Start the stream\n",
    "        stream.statuses.filter(track='@elonmusk,#dogecoin,') #Track uses comma separated list \n",
    "    except (KeyboardInterrupt):\n",
    "        print('Exiting')\n",
    "        break\n",
    "    except Exception as e:   \n",
    "        print(\"error - sleeping \" + str(e))\n",
    "        time.sleep(60)\n",
    "        continue\n",
    "\n",
    "\n",
    "\n"
   ]
  },
  {
   "cell_type": "code",
   "execution_count": null,
   "metadata": {},
   "outputs": [],
   "source": []
  },
  {
   "cell_type": "code",
   "execution_count": null,
   "metadata": {},
   "outputs": [],
   "source": []
  }
 ],
 "metadata": {
  "kernelspec": {
   "display_name": "Python 3",
   "language": "python",
   "name": "python3"
  },
  "language_info": {
   "codemirror_mode": {
    "name": "ipython",
    "version": 3
   },
   "file_extension": ".py",
   "mimetype": "text/x-python",
   "name": "python",
   "nbconvert_exporter": "python",
   "pygments_lexer": "ipython3",
   "version": "3.8.3"
  }
 },
 "nbformat": 4,
 "nbformat_minor": 4
}
